{
  "nbformat": 4,
  "nbformat_minor": 0,
  "metadata": {
    "colab": {
      "provenance": []
    },
    "kernelspec": {
      "name": "python3",
      "display_name": "Python 3"
    },
    "language_info": {
      "name": "python"
    }
  },
  "cells": [
    {
      "cell_type": "code",
      "execution_count": 3,
      "metadata": {
        "colab": {
          "base_uri": "https://localhost:8080/"
        },
        "id": "yZFwsYs2jUj2",
        "outputId": "8b332a46-6350-4906-87d2-516ca7bbe0d4"
      },
      "outputs": [
        {
          "output_type": "stream",
          "name": "stdout",
          "text": [
            "primes: tf.Tensor([ 2  3  5  7 11 13], shape=(6,), dtype=int32)\n",
            "ones: tf.Tensor([1 1 1 1 1 1], shape=(6,), dtype=int32)\n",
            "just_beyond_primes: tf.Tensor([ 3  4  6  8 12 14], shape=(6,), dtype=int32)\n",
            "primes_doubled: tf.Tensor([ 4  6 10 14 22 26], shape=(6,), dtype=int32)\n",
            "tf.Tensor(\n",
            "[[1 2 3]\n",
            " [4 5 6]], shape=(2, 3), dtype=int32)\n",
            "\n",
            "value of some_matrix is:\n",
            " [[1 2 3]\n",
            " [4 5 6]]\n"
          ]
        }
      ],
      "source": [
        "#1.Dimensions creating and manuculating tensors\n",
        "from __future__ import print_function\n",
        "import tensorflow as tf\n",
        "import tensorflow as tf\n",
        "primes = tf.constant([2, 3, 5, 7, 11, 13], dtype=tf.int32)\n",
        "print(\"primes:\", primes)\n",
        "ones = tf.ones([6], dtype=tf.int32)\n",
        "print(\"ones:\", ones)\n",
        "just_beyond_primes = tf.add(primes, ones)\n",
        "print(\"just_beyond_primes:\", just_beyond_primes)\n",
        "twos = tf.constant([2, 2, 2, 2, 2, 2], dtype=tf.int32)\n",
        "primes_doubled = primes * twos\n",
        "print(\"primes_doubled:\", primes_doubled)\n",
        "some_matrix = tf.constant([[1, 2, 3], [4, 5, 6]], dtype=tf.int32)\n",
        "print(some_matrix)\n",
        "print(\"\\nvalue of some_matrix is:\\n\", some_matrix.numpy())"
      ]
    },
    {
      "cell_type": "code",
      "source": [
        "#2.train and evaluate\n",
        "import tensorflow as tf\n",
        "from tensorflow.keras.datasets import mnist\n",
        "from tensorflow.keras.models import Sequential\n",
        "from tensorflow.keras.layers import Dense, Flatten\n",
        "from tensorflow.keras.utils import to_categorical\n",
        "# Load and preprocess the MNIST dataset\n",
        "(x_train, y_train), (x_test, y_test) = mnist.load_data()\n",
        "x_train, x_test = x_train / 255.0, x_test / 255.0\n",
        "y_train, y_test = to_categorical(y_train, 10), to_categorical(y_test,\n",
        "10)\n",
        "model = Sequential([\n",
        "Flatten(input_shape=(28, 28)),\n",
        "Dense(128, activation='relu'),\n",
        "Dense(64, activation='relu'),\n",
        "Dense(10, activation='softmax')\n",
        "])\n",
        "model.compile(optimizer='adam',loss='categorical_crossentropy',metrics=\n",
        "['accuracy'])\n",
        "model.fit(x_train, y_train, epochs=5, batch_size=32,\n",
        "validation_split=0.2)\n",
        "test_loss, test_accuracy = model.evaluate(x_test, y_test)\n",
        "\n",
        "print(f\"Test accuracy: {test_accuracy:.4f}\")"
      ],
      "metadata": {
        "colab": {
          "base_uri": "https://localhost:8080/"
        },
        "id": "YoaPSXS5kFyN",
        "outputId": "88b400c0-0bda-41e8-9dcc-18da139724c1"
      },
      "execution_count": 4,
      "outputs": [
        {
          "output_type": "stream",
          "name": "stdout",
          "text": [
            "Downloading data from https://storage.googleapis.com/tensorflow/tf-keras-datasets/mnist.npz\n",
            "11490434/11490434 [==============================] - 0s 0us/step\n",
            "Epoch 1/5\n",
            "1500/1500 [==============================] - 8s 4ms/step - loss: 0.2707 - accuracy: 0.9207 - val_loss: 0.1429 - val_accuracy: 0.9570\n",
            "Epoch 2/5\n",
            "1500/1500 [==============================] - 9s 6ms/step - loss: 0.1137 - accuracy: 0.9650 - val_loss: 0.1064 - val_accuracy: 0.9662\n",
            "Epoch 3/5\n",
            "1500/1500 [==============================] - 7s 5ms/step - loss: 0.0781 - accuracy: 0.9760 - val_loss: 0.0977 - val_accuracy: 0.9707\n",
            "Epoch 4/5\n",
            "1500/1500 [==============================] - 9s 6ms/step - loss: 0.0591 - accuracy: 0.9815 - val_loss: 0.0974 - val_accuracy: 0.9707\n",
            "Epoch 5/5\n",
            "1500/1500 [==============================] - 11s 8ms/step - loss: 0.0449 - accuracy: 0.9858 - val_loss: 0.0859 - val_accuracy: 0.9750\n",
            "313/313 [==============================] - 2s 4ms/step - loss: 0.0798 - accuracy: 0.9758\n",
            "Test accuracy: 0.9758\n"
          ]
        }
      ]
    },
    {
      "cell_type": "code",
      "source": [
        "#3.Binary classification\n",
        "import numpy as np\n",
        "import tensorflow as tf\n",
        "from tensorflow.keras.models import Sequential\n",
        "from tensorflow.keras.layers import Dense,Input\n",
        "from sklearn.model_selection import train_test_split\n",
        "from sklearn.metrics import accuracy_score\n",
        "np.random.seed(42)\n",
        "X = np.random.rand(1000, 2)\n",
        "y = (X[:, 0] + X[:, 1] > 1).astype(int)\n",
        "X_train, X_test, y_train, y_test = train_test_split(X, y,\n",
        "test_size=0.2,\n",
        "random_state=42)\n",
        "model = Sequential([Input(shape=(2)),Dense(64,\n",
        "activation='relu'),Dense(1,\n",
        "activation='sigmoid')])\n",
        "model.compile(optimizer='adam',loss='binary_crossentropy',metrics=['accuracy'])\n",
        "model.fit(X_train, y_train, epochs=10, batch_size=32,\n",
        "validation_split=0.2)\n",
        "y_pred = model.predict(X_test)\n",
        "y_pred_binary = (y_pred > 0.5).astype(int)\n",
        "test_accuracy = accuracy_score(y_test, y_pred_binary)\n",
        "print(f\"Test accuracy: {test_accuracy:.4f}\")"
      ],
      "metadata": {
        "colab": {
          "base_uri": "https://localhost:8080/"
        },
        "id": "k6b9e5KbkYSE",
        "outputId": "42848e5a-be4b-4794-b4a6-010494f7f542"
      },
      "execution_count": 6,
      "outputs": [
        {
          "output_type": "stream",
          "name": "stdout",
          "text": [
            "Epoch 1/10\n",
            "20/20 [==============================] - 1s 12ms/step - loss: 0.6732 - accuracy: 0.5406 - val_loss: 0.6464 - val_accuracy: 0.5875\n",
            "Epoch 2/10\n",
            "20/20 [==============================] - 0s 4ms/step - loss: 0.6502 - accuracy: 0.5328 - val_loss: 0.6210 - val_accuracy: 0.6125\n",
            "Epoch 3/10\n",
            "20/20 [==============================] - 0s 4ms/step - loss: 0.6305 - accuracy: 0.5703 - val_loss: 0.5999 - val_accuracy: 0.6500\n",
            "Epoch 4/10\n",
            "20/20 [==============================] - 0s 3ms/step - loss: 0.6111 - accuracy: 0.6531 - val_loss: 0.5810 - val_accuracy: 0.6875\n",
            "Epoch 5/10\n",
            "20/20 [==============================] - 0s 4ms/step - loss: 0.5905 - accuracy: 0.7016 - val_loss: 0.5592 - val_accuracy: 0.7000\n",
            "Epoch 6/10\n",
            "20/20 [==============================] - 0s 4ms/step - loss: 0.5692 - accuracy: 0.7359 - val_loss: 0.5385 - val_accuracy: 0.7563\n",
            "Epoch 7/10\n",
            "20/20 [==============================] - 0s 4ms/step - loss: 0.5463 - accuracy: 0.7875 - val_loss: 0.5172 - val_accuracy: 0.8188\n",
            "Epoch 8/10\n",
            "20/20 [==============================] - 0s 3ms/step - loss: 0.5221 - accuracy: 0.8203 - val_loss: 0.4954 - val_accuracy: 0.8687\n",
            "Epoch 9/10\n",
            "20/20 [==============================] - 0s 4ms/step - loss: 0.4978 - accuracy: 0.8469 - val_loss: 0.4722 - val_accuracy: 0.8938\n",
            "Epoch 10/10\n",
            "20/20 [==============================] - 0s 4ms/step - loss: 0.4730 - accuracy: 0.8547 - val_loss: 0.4482 - val_accuracy: 0.9062\n",
            "7/7 [==============================] - 0s 2ms/step\n",
            "Test accuracy: 0.8650\n"
          ]
        }
      ]
    },
    {
      "cell_type": "code",
      "source": [
        "#4. overfitting underfitting\n",
        "import pandas as pd\n",
        "from sklearn.metrics import mean_absolute_error\n",
        "from sklearn.tree import DecisionTreeRegressor\n",
        "from sklearn.model_selection import train_test_split\n",
        "def get_mae(max_leaf_nodes,train_X,val_X, train_y, val_y):\n",
        "  model=DecisionTreeRegressor(max_leaf_nodes=max_leaf_nodes,random_state=0)\n",
        "  model.fit(train_X,train_y)\n",
        "  preds_val=model.predict(val_X)\n",
        "  mae = mean_absolute_error(val_y,preds_val)\n",
        "  return (mae )\n",
        "  melbourne_data=pd.read_csv('melb_data.csv')\n",
        "  filtered_melbourne_data=melbourne_data.dropna(axis=0)\n",
        "  y= filtered_melbourne_data.Price\n",
        "  melbourne_features = ['Rooms', 'Bathroom', 'Landsize' ,'BuildingArea' ,'YearBuilt','Lattitude', 'Longtitude']\n",
        "  X= filtered_melbourne_data[melbourne_features]\n",
        "  train_X, val_X, train_y, val_y=train_test_split(X, y, random_state=0)\n",
        "  for max_leaf_nodes in [5, 50, 500, 5000]:\n",
        "    my_mae=get_mae(max_leaf_nodes, train_X, val_X, train_y, val_y)\n",
        "    print(\"Max leaf nodes: %d \\t\\t Mean Absolute Error: %d\"%(max_leaf_nodes,my_mae) )"
      ],
      "metadata": {
        "id": "UH2oRBVYkgut"
      },
      "execution_count": 29,
      "outputs": []
    },
    {
      "cell_type": "code",
      "source": [
        "#5.Regression\n",
        "import numpy as np\n",
        "import matplotlib.pyplot as plt\n",
        "def estimate_coef(x, y):\n",
        "  n = np.size(x)\n",
        "  m_x= np.mean(x)\n",
        "  m_y=np.mean(y)\n",
        "  SS_xy =np.sum(y*x)-n*m_y*m_x\n",
        "  SS_xx =np.sum(x*x)-n*m_x*m_x\n",
        "  b_1 = SS_xy / SS_xx\n",
        "  b_0 = m_y-b_1*m_x\n",
        "  return(b_0,b_1)\n",
        "def plot_regression_line(x, y, b):\n",
        "  plt.scatter(x, y, color=\"m\",marker=\"o\",s=30)\n",
        "  y_pred=b[0]+b[1]*x\n",
        "  plt.plot(x,y_pred,color=\"g\")\n",
        "  plt.xlabel('x')\n",
        "  plt.ylabel('y')\n",
        "  plt.show()\n",
        "def main():\n",
        "  x = np.array([0, 1, 2, 3, 4, 5, 6, 7, 8, 9])\n",
        "  y = np.array([1, 3, 2, 5, 7, 8, 8, 9, 10, 12])\n",
        "  b= estimate_coef (x, y)\n",
        "  print(\"Estimated coefficients: \\nb_0)={}\\\\ nb_1= {}\".format(b[0],b[1]))\n",
        "  plot_regression_line (x,y,b)\n",
        "if __name__==\"__main__\":\n",
        "  main()"
      ],
      "metadata": {
        "colab": {
          "base_uri": "https://localhost:8080/",
          "height": 484
        },
        "id": "o3CzIGS3mce8",
        "outputId": "8d195e6b-ce65-4dfc-e8bc-b92b17b92c4f"
      },
      "execution_count": 15,
      "outputs": [
        {
          "output_type": "stream",
          "name": "stdout",
          "text": [
            "Estimated coefficients: \n",
            "b_0)=1.2363636363636363\\ nb_1= 1.1696969696969697\n"
          ]
        },
        {
          "output_type": "display_data",
          "data": {
            "text/plain": [
              "<Figure size 640x480 with 1 Axes>"
            ],
            "image/png": "[encoded data removed]"
          },
          "metadata": {}
        }
      ]
    },
    {
      "cell_type": "code",
      "source": [
        "#6.RNN\n",
        "import tensorflow as tf\n",
        "from tensorflow import keras\n",
        "input_shape = (10, 1)\n",
        "model = keras.Sequential([\n",
        "keras.layers.SimpleRNN(32, input_shape=input_shape),\n",
        "\n",
        "keras.layers.Dense(1)\n",
        "])\n",
        "model.compile(optimizer='adam', loss='mse')\n",
        "import numpy as np\n",
        "X_train = np.random.randn(100, 10, 1)\n",
        "y_train = np.random.randn(100, 1)\n",
        "model.fit(X_train, y_train, epochs=10, batch_size=32)\n",
        "X_test = np.random.randn(10, 10, 1)\n",
        "y_test = np.random.randn(10, 1)\n",
        "model.evaluate(X_test, y_test)"
      ],
      "metadata": {
        "colab": {
          "base_uri": "https://localhost:8080/"
        },
        "id": "PXPxE6QPoHsU",
        "outputId": "897a00b2-68e8-4110-c61a-89d82f983dc0"
      },
      "execution_count": 16,
      "outputs": [
        {
          "output_type": "stream",
          "name": "stdout",
          "text": [
            "Epoch 1/10\n",
            "4/4 [==============================] - 2s 7ms/step - loss: 1.5203\n",
            "Epoch 2/10\n",
            "4/4 [==============================] - 0s 6ms/step - loss: 1.3557\n",
            "Epoch 3/10\n",
            "4/4 [==============================] - 0s 6ms/step - loss: 1.2551\n",
            "Epoch 4/10\n",
            "4/4 [==============================] - 0s 6ms/step - loss: 1.1745\n",
            "Epoch 5/10\n",
            "4/4 [==============================] - 0s 6ms/step - loss: 1.1191\n",
            "Epoch 6/10\n",
            "4/4 [==============================] - 0s 7ms/step - loss: 1.0778\n",
            "Epoch 7/10\n",
            "4/4 [==============================] - 0s 7ms/step - loss: 1.0447\n",
            "Epoch 8/10\n",
            "4/4 [==============================] - 0s 6ms/step - loss: 1.0114\n",
            "Epoch 9/10\n",
            "4/4 [==============================] - 0s 6ms/step - loss: 0.9834\n",
            "Epoch 10/10\n",
            "4/4 [==============================] - 0s 6ms/step - loss: 0.9548\n",
            "1/1 [==============================] - 0s 211ms/step - loss: 0.3016\n"
          ]
        },
        {
          "output_type": "execute_result",
          "data": {
            "text/plain": [
              "0.30164751410484314"
            ]
          },
          "metadata": {},
          "execution_count": 16
        }
      ]
    },
    {
      "cell_type": "code",
      "source": [
        "#8.Text to speech\n",
        "!pip install gTTS\n",
        "from gtts import gTTS\n",
        "text_to_say=\"Welcome to the Text to Speech conversion session atKalasalingam University\"\n",
        "language = 'en'\n",
        "gtts_object = gTTS(text = text_to_say, lang = language, slow = False)\n",
        "gtts_object.save(\"/content/gtts.wav\")\n",
        "from IPython.display import Audio\n",
        "Audio(\"/content/gtts.wav\")"
      ],
      "metadata": {
        "colab": {
          "base_uri": "https://localhost:8080/",
          "height": 249
        },
        "id": "wF2gUE4goT3H",
        "outputId": "d61ca5e9-6d46-4779-fb8d-6ee38bc7a578"
      },
      "execution_count": 19,
      "outputs": [
        {
          "output_type": "stream",
          "name": "stdout",
          "text": [
            "Collecting gTTS\n",
            "  Downloading gTTS-2.5.0-py3-none-any.whl (29 kB)\n",
            "Requirement already satisfied: requests<3,>=2.27 in /usr/local/lib/python3.10/dist-packages (from gTTS) (2.31.0)\n",
            "Requirement already satisfied: click<8.2,>=7.1 in /usr/local/lib/python3.10/dist-packages (from gTTS) (8.1.7)\n",
            "Requirement already satisfied: charset-normalizer<4,>=2 in /usr/local/lib/python3.10/dist-packages (from requests<3,>=2.27->gTTS) (3.3.2)\n",
            "Requirement already satisfied: idna<4,>=2.5 in /usr/local/lib/python3.10/dist-packages (from requests<3,>=2.27->gTTS) (3.6)\n",
            "Requirement already satisfied: urllib3<3,>=1.21.1 in /usr/local/lib/python3.10/dist-packages (from requests<3,>=2.27->gTTS) (2.0.7)\n",
            "Requirement already satisfied: certifi>=2017.4.17 in /usr/local/lib/python3.10/dist-packages (from requests<3,>=2.27->gTTS) (2023.11.17)\n",
            "Installing collected packages: gTTS\n",
            "Successfully installed gTTS-2.5.0\n"
          ]
        },
        {
          "output_type": "execute_result",
          "data": {
            "text/plain": [
              "<IPython.lib.display.Audio object>"
            ],
            "text/html": [
              "\n",
              "                <audio  controls=\"controls\" >\n",
              "                    <source src=\"data:audio/x-wav;base64,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\" type=\"audio/x-wav\" />\n",
              "                    Your browser does not support the audio element.\n",
              "                </audio>\n",
              "              "
            ]
          },
          "metadata": {},
          "execution_count": 19
        }
      ]
    },
    {
      "cell_type": "code",
      "source": [
        "#9.CNN\n",
        "import tensorflow as tf\n",
        "from tensorflow.keras.datasets import mnist\n",
        "from tensorflow.keras.models import Sequential\n",
        "from tensorflow.keras.layers import Conv2D, MaxPooling2D, Flatten,Dense, Dropout\n",
        "from tensorflow.keras.utils import to_categorical\n",
        "# Load and preprocess the dataset\n",
        "(x_train, y_train), (x_test, y_test) = mnist.load_data()\n",
        "x_train = x_train.reshape(x_train.shape[0], 28, 28,1).astype('float32') / 255\n",
        "x_test = x_test.reshape(x_test.shape[0], 28, 28, 1).astype('float32') /255\n",
        "y_train = to_categorical(y_train, 10)\n",
        "y_test = to_categorical(y_test, 10)\n",
        "# Build the CNN model\n",
        "model = Sequential()\n",
        "model.add(Conv2D(32, kernel_size=(3, 3), activation='relu',\n",
        "input_shape=(28, 28, 1)))\n",
        "model.add(MaxPooling2D(pool_size=(2, 2)))\n",
        "model.add(Conv2D(64, kernel_size=(3, 3), activation='relu'))\n",
        "model.add(MaxPooling2D(pool_size=(2, 2)))\n",
        "model.add(Flatten())\n",
        "model.add(Dense(128, activation='relu'))\n",
        "model.add(Dropout(0.5))\n",
        "model.add(Dense(10, activation='softmax'))\n",
        "# Compile the model\n",
        "model.compile(loss='categorical_crossentropy', optimizer='adam',metrics=['accuracy'])\n",
        "# Train the model\n",
        "model.fit(x_train, y_train, validation_data=(x_test, y_test),epochs=10,batch_size=200, verbose=2)\n",
        "# Evaluate the model\n",
        "test_loss, test_acc = model.evaluate(x_test, y_test, verbose=0)\n",
        "print(f'Test accuracy: {test_acc*100:.2f}%')"
      ],
      "metadata": {
        "colab": {
          "base_uri": "https://localhost:8080/"
        },
        "id": "Op3vL9IPofB2",
        "outputId": "7d0234c4-f6ab-457e-f1f2-2b989bd44eba"
      },
      "execution_count": 21,
      "outputs": [
        {
          "output_type": "stream",
          "name": "stdout",
          "text": [
            "Epoch 1/10\n",
            "300/300 - 57s - loss: 0.3314 - accuracy: 0.9004 - val_loss: 0.0669 - val_accuracy: 0.9778 - 57s/epoch - 190ms/step\n",
            "Epoch 2/10\n",
            "300/300 - 45s - loss: 0.1020 - accuracy: 0.9700 - val_loss: 0.0409 - val_accuracy: 0.9865 - 45s/epoch - 151ms/step\n",
            "Epoch 3/10\n",
            "300/300 - 48s - loss: 0.0750 - accuracy: 0.9778 - val_loss: 0.0336 - val_accuracy: 0.9881 - 48s/epoch - 160ms/step\n",
            "Epoch 4/10\n",
            "300/300 - 67s - loss: 0.0609 - accuracy: 0.9814 - val_loss: 0.0348 - val_accuracy: 0.9881 - 67s/epoch - 224ms/step\n",
            "Epoch 5/10\n",
            "300/300 - 45s - loss: 0.0515 - accuracy: 0.9845 - val_loss: 0.0317 - val_accuracy: 0.9890 - 45s/epoch - 149ms/step\n",
            "Epoch 6/10\n",
            "300/300 - 53s - loss: 0.0450 - accuracy: 0.9869 - val_loss: 0.0246 - val_accuracy: 0.9908 - 53s/epoch - 177ms/step\n",
            "Epoch 7/10\n",
            "300/300 - 63s - loss: 0.0400 - accuracy: 0.9878 - val_loss: 0.0257 - val_accuracy: 0.9904 - 63s/epoch - 208ms/step\n",
            "Epoch 8/10\n",
            "300/300 - 47s - loss: 0.0350 - accuracy: 0.9888 - val_loss: 0.0230 - val_accuracy: 0.9917 - 47s/epoch - 156ms/step\n",
            "Epoch 9/10\n",
            "300/300 - 54s - loss: 0.0325 - accuracy: 0.9900 - val_loss: 0.0267 - val_accuracy: 0.9915 - 54s/epoch - 180ms/step\n",
            "Epoch 10/10\n",
            "300/300 - 56s - loss: 0.0309 - accuracy: 0.9903 - val_loss: 0.0254 - val_accuracy: 0.9911 - 56s/epoch - 186ms/step\n",
            "Test accuracy: 99.11%\n"
          ]
        }
      ]
    },
    {
      "cell_type": "code",
      "source": [
        "#10.sequence classification\n",
        "import numpy as np\n",
        "import tensorflow as tf\n",
        "from tensorflow.keras.models import Sequential\n",
        "from tensorflow.keras.layers import Embedding, LSTM, Dense\n",
        "from tensorflow.keras.preprocessing.text import Tokenizer\n",
        "from tensorflow.keras.preprocessing.sequence import pad_sequences\n",
        "# Sample data: sentences and their corresponding labels\n",
        "sentences = [ \"I love this product\", \"This is terrible\", \"Great job!\",\n",
        "\"Not good at all\", \"Awesome stuff\" ]\n",
        "labels = [1, 0, 1, 0, 1]\n",
        "# Tokenize the text data:\n",
        "tokenizer = Tokenizer(num_words=1000, oov_token=\"\")\n",
        "tokenizer.fit_on_texts(sentences)\n",
        "word_index = tokenizer.word_index\n",
        "# Convert sentences to sequences of integers\n",
        "sequences = tokenizer.texts_to_sequences(sentences)\n",
        "# Pad sequences to have the same length\n",
        "max_sequence_length = max([len(seq) for seq in sequences])\n",
        "sequences_padded = pad_sequences(sequences, maxlen=max_sequence_length,\n",
        "padding=\"post\")\n",
        "# Define the model\n",
        "model = Sequential()\n",
        "model.add(Embedding(input_dim=len(word_index) + 1, output_dim=64,\n",
        "input_length=max_sequence_length))\n",
        "model.add(LSTM(64))\n",
        "model.add(Dense(1, activation=\"sigmoid\"))\n",
        "# Compile the model\n",
        "model.compile(loss=\"binary_crossentropy\", optimizer=\"adam\",\n",
        "metrics=[\"accuracy\"])\n",
        "# Test sentences for predictions\n",
        "test_sentences = [\n",
        "    \"This is amazing\",\n",
        "    \"Absolutely awful\",\n",
        "    \"Well done!\",\n",
        "    \"Very disappointing\"\n",
        "    ]\n",
        "test_sequences = tokenizer.texts_to_sequences(test_sentences)\n",
        "test_sequences_padded = pad_sequences(test_sequences,\n",
        "maxlen=max_sequence_length, padding=\"post\")\n",
        "# Make predictions\n",
        "predictions = model.predict(test_sequences_padded)\n",
        "# Print the predictions\n",
        "for i, sentence in enumerate(test_sentences):sentiment = \"Positive\" if predictions[i] > 0.5 else \"Negative\"\n",
        "print(f\"Sentence: '{sentence}' - Sentiment: {sentiment}({predictions[i][0]:.2f})\")"
      ],
      "metadata": {
        "colab": {
          "base_uri": "https://localhost:8080/"
        },
        "id": "28_HbVZgplvd",
        "outputId": "81961093-024b-4d28-ced8-cff982a21939"
      },
      "execution_count": 24,
      "outputs": [
        {
          "output_type": "stream",
          "name": "stdout",
          "text": [
            "1/1 [==============================] - 0s 488ms/step\n",
            "Sentence: 'Very disappointing' - Sentiment: Negative(0.50)\n"
          ]
        }
      ]
    },
    {
      "cell_type": "code",
      "source": [
        "#14.LSTM\n",
        "import numpy as np\n",
        "from tensorflow import keras\n",
        "from tensorflow.keras import layers\n",
        "max_features = 20000 # Only consider the top 20k words\n",
        "maxlen = 200 # Only consider the first 200 words of each movie review\n",
        "# Input for variable-length sequences of integers\n",
        "inputs = keras.Input(shape=(None,), dtype=\"int32\")\n",
        "# Embed each integer in a 128-dimensional vector\n",
        "x = layers.Embedding(max_features, 128)(inputs)\n",
        "# Add 2 bidirectional LSTMs\n",
        "x = layers.Bidirectional(layers.LSTM(64, return_sequences=True))(x)\n",
        "x = layers.Bidirectional(layers.LSTM(64))(x)\n",
        "# Add a classifier\n",
        "outputs = layers.Dense(1, activation=\"sigmoid\")(x)\n",
        "model = keras.Model(inputs, outputs)\n",
        "model.summary()\n",
        "(x_train, y_train), (x_val, y_val) = keras.datasets.imdb.load_data(num_words=max_features)\n",
        "print(len(x_train), \"Training sequences\")\n",
        "print(len(x_val), \"Validation sequences\")\n",
        "x_train = keras.preprocessing.sequence.pad_sequences(x_train,maxlen=maxlen)\n",
        "x_val = keras.preprocessing.sequence.pad_sequences(x_val,maxlen=maxlen)\n",
        "model.compile(\"adam\", \"binary_crossentropy\", metrics=[\"accuracy\"])\n",
        "model.fit(x_train, y_train, batch_size=32, epochs=2,validation_data=(x_val, y_val))"
      ],
      "metadata": {
        "colab": {
          "base_uri": "https://localhost:8080/"
        },
        "id": "TBSwPD8lqqH9",
        "outputId": "06900470-ec32-4d15-a3b5-0c41df13227c"
      },
      "execution_count": 23,
      "outputs": [
        {
          "output_type": "stream",
          "name": "stdout",
          "text": [
            "Model: \"model\"\n",
            "_________________________________________________________________\n",
            " Layer (type)                Output Shape              Param #   \n",
            "=================================================================\n",
            " input_2 (InputLayer)        [(None, None)]            0         \n",
            "                                                                 \n",
            " embedding (Embedding)       (None, None, 128)         2560000   \n",
            "                                                                 \n",
            " bidirectional (Bidirection  (None, None, 128)         98816     \n",
            " al)                                                             \n",
            "                                                                 \n",
            " bidirectional_1 (Bidirecti  (None, 128)               98816     \n",
            " onal)                                                           \n",
            "                                                                 \n",
            " dense_8 (Dense)             (None, 1)                 129       \n",
            "                                                                 \n",
            "=================================================================\n",
            "Total params: 2757761 (10.52 MB)\n",
            "Trainable params: 2757761 (10.52 MB)\n",
            "Non-trainable params: 0 (0.00 Byte)\n",
            "_________________________________________________________________\n",
            "Downloading data from https://storage.googleapis.com/tensorflow/tf-keras-datasets/imdb.npz\n",
            "17464789/17464789 [==============================] - 0s 0us/step\n",
            "25000 Training sequences\n",
            "25000 Validation sequences\n",
            "Epoch 1/2\n",
            "782/782 [==============================] - 632s 791ms/step - loss: 0.3966 - accuracy: 0.8177 - val_loss: 0.5171 - val_accuracy: 0.8039\n",
            "Epoch 2/2\n",
            "782/782 [==============================] - 583s 746ms/step - loss: 0.2305 - accuracy: 0.9130 - val_loss: 0.3325 - val_accuracy: 0.8646\n"
          ]
        },
        {
          "output_type": "execute_result",
          "data": {
            "text/plain": [
              "<keras.src.callbacks.History at 0x7a67d7c91c30>"
            ]
          },
          "metadata": {},
          "execution_count": 23
        }
      ]
    }
  ]
}